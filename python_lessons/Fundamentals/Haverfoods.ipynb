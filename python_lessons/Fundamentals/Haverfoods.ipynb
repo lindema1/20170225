{
 "cells": [
  {
   "cell_type": "code",
   "execution_count": 7,
   "metadata": {
    "collapsed": false
   },
   "outputs": [],
   "source": [
    "haverfoods = {\"forks\" : \"food rakes\", \"chicken parmesian\" : \"chicky-chicky-parm-parm\",\n",
    "             \"desserts\" : \"zerts\", \"sandwiches\" : \"sammies, sandoozles, or Adam Sandlers\",\n",
    "             \"cakes\" : \"big old cookies\", \"noodles\": \"long-ass rice\", \"fried chicken\" : \"fry-fry-chicky-chick\", \n",
    "             \"chicken cacciatore\": \"chicky-catch\", \"eggs\" : \"pre-birds or, future birds\", \n",
    "             \"root beer\" : \"super water\", \"tortillas\" : \"bean blankets\"}"
   ]
  },
  {
   "cell_type": "code",
   "execution_count": 30,
   "metadata": {
    "collapsed": false
   },
   "outputs": [
    {
     "name": "stdout",
     "output_type": "stream",
     "text": [
      "apple price is 0.100000\n",
      "mango price is 0.750000\n",
      "banana price is 0.500000\n"
     ]
    }
   ],
   "source": [
    "fruit_price = {\"apple\" : 0.10, \"banana\" : 0.50, \"mango\" : 0.75}\n",
    "\n",
    "for key, value in fruit_price.items():\n",
    "    print (\"%s price is %f\" % (key, value))"
   ]
  },
  {
   "cell_type": "code",
   "execution_count": 3,
   "metadata": {
    "collapsed": false
   },
   "outputs": [
    {
     "name": "stdout",
     "output_type": "stream",
     "text": [
      "I call desserts, zerts\n",
      "I call forks, food rakes\n",
      "I call chicken parmesian, chicky-chicky-parm-parm\n"
     ]
    }
   ],
   "source": [
    "haverfoods_short = {\"forks\" : \"food rakes\", \"chicken parmesian\" : \"chicky-chicky-parm-parm\",\n",
    "             \"desserts\" : \"zerts\"}\n",
    "for clause1, clause2 in haverfoods_short.items():\n",
    "    print (\"I call %s, %s\" % (clause1, clause2))"
   ]
  },
  {
   "cell_type": "code",
   "execution_count": 42,
   "metadata": {
    "collapsed": false
   },
   "outputs": [],
   "source": [
    "#build a function to look-up a word in a dictionary\n",
    "def look_up (str1, dictionary):\n",
    "    '''\n",
    "    looks up one word (as a string) in a dictionary,\n",
    "    returns the word and its definition\n",
    "    '''\n",
    "    str2 = dictionary[str1]\n",
    "    return str2"
   ]
  },
  {
   "cell_type": "code",
   "execution_count": 43,
   "metadata": {
    "collapsed": false
   },
   "outputs": [
    {
     "data": {
      "text/plain": [
       "'food rakes'"
      ]
     },
     "execution_count": 43,
     "metadata": {},
     "output_type": "execute_result"
    }
   ],
   "source": [
    "look_up (\"forks\", haverfoods)"
   ]
  },
  {
   "cell_type": "code",
   "execution_count": 45,
   "metadata": {
    "collapsed": false
   },
   "outputs": [],
   "source": [
    "def tommy_speaks (word):\n",
    "    '''\n",
    "    invoke the spirit of Tom Haverford by'''\n",
    "    response = look_up (word, haverfoods)\n",
    "    print (\"I call %s, %s!\" % (word, response))"
   ]
  },
  {
   "cell_type": "code",
   "execution_count": 46,
   "metadata": {
    "collapsed": false
   },
   "outputs": [
    {
     "name": "stdout",
     "output_type": "stream",
     "text": [
      "I call forks, food rakes!\n"
     ]
    }
   ],
   "source": [
    "tommy_speaks (\"forks\")"
   ]
  },
  {
   "cell_type": "code",
   "execution_count": 47,
   "metadata": {
    "collapsed": false
   },
   "outputs": [
    {
     "name": "stdout",
     "output_type": "stream",
     "text": [
      "I call desserts, zerts!\n"
     ]
    }
   ],
   "source": [
    "tommy_speaks (\"desserts\")"
   ]
  },
  {
   "cell_type": "code",
   "execution_count": 48,
   "metadata": {
    "collapsed": false
   },
   "outputs": [
    {
     "name": "stdout",
     "output_type": "stream",
     "text": [
      "I call sandwiches, sammies, sandoozles, or Adam Sandlers!\n"
     ]
    }
   ],
   "source": [
    "tommy_speaks (\"sandwiches\")"
   ]
  },
  {
   "cell_type": "code",
   "execution_count": null,
   "metadata": {
    "collapsed": true
   },
   "outputs": [],
   "source": []
  }
 ],
 "metadata": {
  "kernelspec": {
   "display_name": "Python 3",
   "language": "python",
   "name": "python3"
  },
  "language_info": {
   "codemirror_mode": {
    "name": "ipython",
    "version": 3
   },
   "file_extension": ".py",
   "mimetype": "text/x-python",
   "name": "python",
   "nbconvert_exporter": "python",
   "pygments_lexer": "ipython3",
   "version": "3.5.2"
  }
 },
 "nbformat": 4,
 "nbformat_minor": 2
}
