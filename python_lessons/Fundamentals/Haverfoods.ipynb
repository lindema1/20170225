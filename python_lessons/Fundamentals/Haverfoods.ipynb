{
 "cells": [
  {
   "cell_type": "code",
   "execution_count": 7,
   "metadata": {
    "collapsed": false
   },
   "outputs": [
    {
     "data": {
      "text/plain": [
       "{'cakes': 'big old cookies',\n",
       " 'chicken cacciatore': 'chicky-catch',\n",
       " 'chicken parmesian': 'chicky-chicky-parm-parm',\n",
       " 'desserts': 'zerts',\n",
       " 'eggs': 'pre-birds or, future birds',\n",
       " 'forks': 'food rakes',\n",
       " 'fried chicken': 'fry-fry-chicky-chick',\n",
       " 'noodles': 'long-ass rice',\n",
       " 'root beer': 'super water',\n",
       " 'sandwiches': 'sammies, sandoozles, or Adam Sandlers',\n",
       " 'tortillas': 'bean blankets'}"
      ]
     },
     "execution_count": 7,
     "metadata": {},
     "output_type": "execute_result"
    }
   ],
   "source": [
    "haverfoods = {\"forks\" : \"food rakes\", \"chicken parmesian\" : \"chicky-chicky-parm-parm\",\n",
    "             \"desserts\" : \"zerts\", \"sandwiches\" : \"sammies, sandoozles, or Adam Sandlers\",\n",
    "             \"cakes\" : \"big old cookies\", \"noodles\": \"long-ass rice\", \"fried chicken\" : \"fry-fry-chicky-chick\", \n",
    "             \"chicken cacciatore\": \"chicky-catch\", \"eggs\" : \"pre-birds or, future birds\", \n",
    "             \"root beer\" : \"super water\", \"tortillas\" : \"bean blankets\"}\n",
    "haverfoods"
   ]
  },
  {
   "cell_type": "code",
   "execution_count": 30,
   "metadata": {
    "collapsed": false
   },
   "outputs": [
    {
     "name": "stdout",
     "output_type": "stream",
     "text": [
      "apple price is 0.100000\n",
      "mango price is 0.750000\n",
      "banana price is 0.500000\n"
     ]
    }
   ],
   "source": [
    "fruit_price = {\"apple\" : 0.10, \"banana\" : 0.50, \"mango\" : 0.75}\n",
    "\n",
    "for key, value in fruit_price.items():\n",
    "    print (\"%s price is %f\" % (key, value))"
   ]
  },
  {
   "cell_type": "code",
   "execution_count": null,
   "metadata": {
    "collapsed": true
   },
   "outputs": [],
   "source": []
  }
 ],
 "metadata": {
  "kernelspec": {
   "display_name": "Python 3",
   "language": "python",
   "name": "python3"
  },
  "language_info": {
   "codemirror_mode": {
    "name": "ipython",
    "version": 3
   },
   "file_extension": ".py",
   "mimetype": "text/x-python",
   "name": "python",
   "nbconvert_exporter": "python",
   "pygments_lexer": "ipython3",
   "version": "3.5.2"
  }
 },
 "nbformat": 4,
 "nbformat_minor": 2
}
